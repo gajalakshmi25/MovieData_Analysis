{
  "nbformat": 4,
  "nbformat_minor": 0,
  "metadata": {
    "colab": {
      "provenance": [],
      "include_colab_link": true
    },
    "kernelspec": {
      "name": "python3",
      "display_name": "Python 3"
    },
    "language_info": {
      "name": "python"
    }
  },
  "cells": [
    {
      "cell_type": "markdown",
      "metadata": {
        "id": "view-in-github",
        "colab_type": "text"
      },
      "source": [
        "<a href=\"https://colab.research.google.com/github/gajalakshmi25/MovieData_Analysis/blob/main/PRO_C141_Reference_Code.ipynb\" target=\"_parent\"><img src=\"https://colab.research.google.com/assets/colab-badge.svg\" alt=\"Open In Colab\"/></a>"
      ]
    },
    {
      "cell_type": "code",
      "source": [
        "!git clone https://github.com/procodingclass/kaggle-movie-data-.git"
      ],
      "metadata": {
        "colab": {
          "base_uri": "https://localhost:8080/"
        },
        "id": "S2ZTKJExC5Xb",
        "outputId": "1851ddec-d1fe-4f06-aa18-e1366a664119"
      },
      "execution_count": null,
      "outputs": [
        {
          "output_type": "stream",
          "name": "stdout",
          "text": [
            "Cloning into 'kaggle-movie-data-'...\n",
            "remote: Enumerating objects: 7, done.\u001b[K\n",
            "remote: Counting objects: 100% (7/7), done.\u001b[K\n",
            "remote: Compressing objects: 100% (5/5), done.\u001b[K\n",
            "remote: Total 7 (delta 0), reused 4 (delta 0), pack-reused 0\u001b[K\n",
            "Unpacking objects: 100% (7/7), done.\n"
          ]
        }
      ]
    },
    {
      "cell_type": "code",
      "source": [
        "import pandas as pd\n",
        "import numpy as np\n",
        "movies_df = pd.read_csv('/content/kaggle-movie-data-/tmdb_5000_movies.csv')\n",
        "credits_df = pd.read_csv('/content/kaggle-movie-data-/tmdb_5000_credits.csv')"
      ],
      "metadata": {
        "id": "PapveunsqkoN"
      },
      "execution_count": null,
      "outputs": []
    },
    {
      "cell_type": "code",
      "source": [
        "credits_df.rename(columns = {'movie_id' : 'id'} , inplace = True)"
      ],
      "metadata": {
        "id": "ALGyp80Vr8t_"
      },
      "execution_count": null,
      "outputs": []
    },
    {
      "cell_type": "code",
      "source": [
        "common_df = pd.merge(movies_df , credits_df , on = 'id')"
      ],
      "metadata": {
        "id": "hoPUTB6osHs7"
      },
      "execution_count": null,
      "outputs": []
    },
    {
      "cell_type": "code",
      "source": [
        "common_df.drop(['homepage', 'title_x', 'title_y', 'production_companies'] , axis = 1 , inplace = True)\n",
        "common_df.dropna(inplace = True)\n",
        "common_df.info()"
      ],
      "metadata": {
        "colab": {
          "base_uri": "https://localhost:8080/"
        },
        "id": "95R5FHq3C8v9",
        "outputId": "b9dd0a66-6ffb-416e-fd39-0e7d648a5cd5"
      },
      "execution_count": null,
      "outputs": [
        {
          "output_type": "stream",
          "name": "stdout",
          "text": [
            "<class 'pandas.core.frame.DataFrame'>\n",
            "Int64Index: 3958 entries, 0 to 4801\n",
            "Data columns (total 19 columns):\n",
            " #   Column                Non-Null Count  Dtype  \n",
            "---  ------                --------------  -----  \n",
            " 0   budget                3958 non-null   int64  \n",
            " 1   genres                3958 non-null   object \n",
            " 2   id                    3958 non-null   int64  \n",
            " 3   keywords              3958 non-null   object \n",
            " 4   original_language     3958 non-null   object \n",
            " 5   original_title        3958 non-null   object \n",
            " 6   overview              3958 non-null   object \n",
            " 7   popularity            3958 non-null   float64\n",
            " 8   production_countries  3958 non-null   object \n",
            " 9   release_date          3958 non-null   object \n",
            " 10  revenue               3958 non-null   int64  \n",
            " 11  runtime               3958 non-null   float64\n",
            " 12  spoken_languages      3958 non-null   object \n",
            " 13  status                3958 non-null   object \n",
            " 14  tagline               3958 non-null   object \n",
            " 15  vote_average          3958 non-null   float64\n",
            " 16  vote_count            3958 non-null   int64  \n",
            " 17  cast                  3958 non-null   object \n",
            " 18  crew                  3958 non-null   object \n",
            "dtypes: float64(3), int64(4), object(12)\n",
            "memory usage: 618.4+ KB\n"
          ]
        }
      ]
    },
    {
      "cell_type": "code",
      "source": [
        "# calculating weighted_rating\n",
        "R = common_df['vote_average']\n",
        "v = common_df['vote_count']\n",
        "C = common_df['vote_average'].mean()\n",
        "print(C)\n",
        "m = common_df['vote_count'].quantile(0.9)\n",
        "print(m)\n",
        "common_df['weighted_rating'] = (R*v + C*m) / (v + m)"
      ],
      "metadata": {
        "colab": {
          "base_uri": "https://localhost:8080/"
        },
        "id": "K4poDvLtCJtB",
        "outputId": "e83dc301-93ef-4411-941b-04bb7b1995ad"
      },
      "execution_count": null,
      "outputs": [
        {
          "output_type": "stream",
          "name": "stdout",
          "text": [
            "6.181859525012634\n",
            "2101.2000000000007\n"
          ]
        }
      ]
    },
    {
      "cell_type": "code",
      "source": [
        "from ast import literal_eval\n",
        "\n",
        "features = ['cast' , 'crew', 'keywords', 'genres']\n",
        "for feature in features:\n",
        "  common_df[feature] = common_df[feature].apply(literal_eval)"
      ],
      "metadata": {
        "id": "2C-2JN_YGgpj"
      },
      "execution_count": null,
      "outputs": []
    },
    {
      "cell_type": "code",
      "source": [
        "def get_director(crew):\n",
        "  for crew_member in crew:\n",
        "    if crew_member['job']  ==  'Director':\n",
        "      return crew_member['name']\n",
        "\n",
        "  return np.nan\n",
        "\n",
        "common_df['director'] = common_df['crew'].apply(get_director)"
      ],
      "metadata": {
        "id": "zOzbwwHtGlNo"
      },
      "execution_count": null,
      "outputs": []
    },
    {
      "cell_type": "code",
      "source": [
        "def get_name_list(column_value):\n",
        "  names_list = []\n",
        "  if isinstance(column_value , list):\n",
        "    for element in column_value:\n",
        "      names_list.append(element['name'])\n",
        "\n",
        "  return names_list\n",
        "\n",
        "features = ['cast' , 'keywords' , 'genres']\n",
        "for feature in features:\n",
        "  common_df[feature] = common_df[feature].apply(get_name_list)"
      ],
      "metadata": {
        "id": "OnakxNU2Go-a"
      },
      "execution_count": null,
      "outputs": []
    },
    {
      "cell_type": "code",
      "source": [
        "def clean_data(column_value):\n",
        "  modified_list = []\n",
        "  modified_string = \"\"\n",
        "  if isinstance(column_value , list):\n",
        "    for element in column_value:\n",
        "      modified_string = element.replace(\" \" , \"\")\n",
        "      modified_list.append(modified_string.lower())\n",
        "\n",
        "    return modified_list\n",
        "\n",
        "  elif isinstance(column_value , str):\n",
        "    modified_string = column_value.replace(\" \" , \"\")\n",
        "    return modified_string.lower()\n",
        "\n",
        "  else:\n",
        "    return ''\n",
        "\n",
        "features = ['cast' , 'keywords' , 'genres' , 'director']\n",
        "for feature in features:\n",
        "  common_df[feature] = common_df[feature].apply(clean_data)"
      ],
      "metadata": {
        "id": "rfcngy28GtV8"
      },
      "execution_count": null,
      "outputs": []
    },
    {
      "cell_type": "code",
      "source": [
        "def create_soup(x):\n",
        "   return ' '.join(x['keywords']) + ' ' + ' '.join(x['cast']) + ' ' + x['director'] + ' ' + ' '.join(x['genres'])\n",
        "common_df['soup'] = common_df.apply(create_soup, axis=1)"
      ],
      "metadata": {
        "id": "wjVZl-cPGwaK"
      },
      "execution_count": null,
      "outputs": []
    },
    {
      "cell_type": "code",
      "source": [
        "# resetting index\n",
        "common_df = common_df.reset_index()\n",
        "indices = pd.Series(common_df.index, index=common_df['original_title'])"
      ],
      "metadata": {
        "id": "eh-z5ExwHP0y"
      },
      "execution_count": null,
      "outputs": []
    },
    {
      "cell_type": "code",
      "source": [
        "# converting dataframe to csv\n",
        "common_df.to_csv('movies.csv')"
      ],
      "metadata": {
        "id": "MXwqme8F2vcw"
      },
      "execution_count": null,
      "outputs": []
    },
    {
      "cell_type": "code",
      "source": [
        "# downloading file\n",
        "from google.colab import files\n",
        "files.download('movies.csv')"
      ],
      "metadata": {
        "id": "mxz7xLLrsX-b",
        "colab": {
          "base_uri": "https://localhost:8080/",
          "height": 34
        },
        "outputId": "6d9a210d-76ea-4692-f9bc-218de6596b42"
      },
      "execution_count": null,
      "outputs": [
        {
          "output_type": "display_data",
          "data": {
            "text/plain": [
              "<IPython.core.display.Javascript object>"
            ],
            "application/javascript": [
              "\n",
              "    async function download(id, filename, size) {\n",
              "      if (!google.colab.kernel.accessAllowed) {\n",
              "        return;\n",
              "      }\n",
              "      const div = document.createElement('div');\n",
              "      const label = document.createElement('label');\n",
              "      label.textContent = `Downloading \"${filename}\": `;\n",
              "      div.appendChild(label);\n",
              "      const progress = document.createElement('progress');\n",
              "      progress.max = size;\n",
              "      div.appendChild(progress);\n",
              "      document.body.appendChild(div);\n",
              "\n",
              "      const buffers = [];\n",
              "      let downloaded = 0;\n",
              "\n",
              "      const channel = await google.colab.kernel.comms.open(id);\n",
              "      // Send a message to notify the kernel that we're ready.\n",
              "      channel.send({})\n",
              "\n",
              "      for await (const message of channel.messages) {\n",
              "        // Send a message to notify the kernel that we're ready.\n",
              "        channel.send({})\n",
              "        if (message.buffers) {\n",
              "          for (const buffer of message.buffers) {\n",
              "            buffers.push(buffer);\n",
              "            downloaded += buffer.byteLength;\n",
              "            progress.value = downloaded;\n",
              "          }\n",
              "        }\n",
              "      }\n",
              "      const blob = new Blob(buffers, {type: 'application/binary'});\n",
              "      const a = document.createElement('a');\n",
              "      a.href = window.URL.createObjectURL(blob);\n",
              "      a.download = filename;\n",
              "      div.appendChild(a);\n",
              "      a.click();\n",
              "      div.remove();\n",
              "    }\n",
              "  "
            ]
          },
          "metadata": {}
        },
        {
          "output_type": "display_data",
          "data": {
            "text/plain": [
              "<IPython.core.display.Javascript object>"
            ],
            "application/javascript": [
              "download(\"download_8acca910-1725-43e9-9e11-ab50354b6254\", \"movies.csv\", 23831755)"
            ]
          },
          "metadata": {}
        }
      ]
    }
  ]
}